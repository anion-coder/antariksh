{
  "nbformat": 4,
  "nbformat_minor": 0,
  "metadata": {
    "colab": {
      "provenance": [],
      "authorship_tag": "ABX9TyMiHN/+dymV2UIgmh+x6Cax",
      "include_colab_link": true
    },
    "kernelspec": {
      "name": "python3",
      "display_name": "Python 3"
    },
    "language_info": {
      "name": "python"
    }
  },
  "cells": [
    {
      "cell_type": "markdown",
      "metadata": {
        "id": "view-in-github",
        "colab_type": "text"
      },
      "source": [
        "<a href=\"https://colab.research.google.com/github/anion-coder/antariksh/blob/main/oops.ipynb\" target=\"_parent\"><img src=\"https://colab.research.google.com/assets/colab-badge.svg\" alt=\"Open In Colab\"/></a>"
      ]
    },
    {
      "cell_type": "code",
      "execution_count": 3,
      "metadata": {
        "colab": {
          "base_uri": "https://localhost:8080/"
        },
        "id": "W7qdB3R-VE6h",
        "outputId": "2a00e12c-18cb-40c0-e4f0-5f7eb13351bd"
      },
      "outputs": [
        {
          "output_type": "stream",
          "name": "stdout",
          "text": [
            "Hello World\n",
            "10\n",
            "Aastha is an Doctor\n",
            "Ravi is an ml engineer\n"
          ]
        }
      ],
      "source": [
        "# Classes and Objects\n",
        "\n",
        "class myClass:\n",
        "  print(\"Hello World\")\n",
        "  num = 10\n",
        "\n",
        "obj = myClass() # Made an object of the class\n",
        "print(obj.num)  # Printing the num using . method\n",
        "\n",
        "class newClass:\n",
        "  name = 'Sid'\n",
        "  occupation = 'doctor'\n",
        "  def info(self):\n",
        "    print(f\"{self.name} is an {self.occupation}\")\n",
        "\n",
        "per1 = newClass()\n",
        "per1.name = \"Aastha\"\n",
        "per1.occupation = 'Doctor'\n",
        "\n",
        "per2 = newClass()\n",
        "per2.name = 'Ravi'\n",
        "per2.occupation = \"ml engineer\"\n",
        "\n",
        "per1.info()\n",
        "per2.info()"
      ]
    },
    {
      "cell_type": "code",
      "source": [
        "# Using the __init__ method\n",
        "# All classes have a function called __init__(),\n",
        "# which is always executed when the class is being initiated.\n",
        "# This method is called automatically when a object is being created\n",
        "\n",
        "class details:\n",
        "  # Every method that you write in a class requires a self parameter to be passed\n",
        "  # Here we made it a parameterized constructor\n",
        "  def __init__(self , name , age):\n",
        "    print(\"I will be printed by default\")\n",
        "    self.name = name\n",
        "    self.age = age\n",
        "# Here self parameter means voh object jispe yeh method call ho rha hai\n",
        "# It is not imp. to name it self , you can name whatever you like , but it should be the 1st param\n",
        "\n",
        "obj1 = details(\"Harmali\",45)\n",
        "print(obj1.name , obj1.age)\n",
        "obj2 = details(\"Anant\",34)\n",
        "print(obj2.name , obj2.age)\n",
        "\n",
        "# __init__ is a special type of dunder method which helps us to make constructors\n",
        "# A default constructor :\n",
        "\n",
        "class noname :\n",
        "  def __init__(self):\n",
        "    print(\"Nothing new , only 'self' is passed \")\n",
        "newobj = noname()\n"
      ],
      "metadata": {
        "colab": {
          "base_uri": "https://localhost:8080/"
        },
        "id": "GiJfIsKP-Y-a",
        "outputId": "7f85e277-69f9-4a65-ffc8-18cea181d21d"
      },
      "execution_count": 4,
      "outputs": [
        {
          "output_type": "stream",
          "name": "stdout",
          "text": [
            "I will be printed by default\n",
            "Harmali 45\n",
            "I will be printed by default\n",
            "Anant 34\n",
            "Nothing new , only 'self' is passed \n"
          ]
        }
      ]
    },
    {
      "cell_type": "code",
      "source": [
        "# Using __str__ method\n",
        "\n",
        "class Animal:\n",
        "  def __init__(self,name,exists):\n",
        "    self.n = name\n",
        "    self.e = exists\n",
        "\n",
        "  def __str__(self):\n",
        "    return f\"{self.n} - {self.e}\"\n",
        "\n",
        "anim1 = Animal('Tiger',True)\n",
        "anim2 = Animal('Dodo',False)\n",
        "print(anim1)\n",
        "print(anim2)\n",
        "\n",
        "# You can also delete obj or its prop by del keyword\n",
        "del anim2\n",
        "print(anim2) # Throws error"
      ],
      "metadata": {
        "colab": {
          "base_uri": "https://localhost:8080/",
          "height": 246
        },
        "id": "YJy8O0sA-tvB",
        "outputId": "97a056a7-70b0-4c1b-a4da-1fdaa7636cab"
      },
      "execution_count": 5,
      "outputs": [
        {
          "output_type": "stream",
          "name": "stdout",
          "text": [
            "Tiger - True\n",
            "Dodo - False\n"
          ]
        },
        {
          "output_type": "error",
          "ename": "NameError",
          "evalue": "ignored",
          "traceback": [
            "\u001b[0;31m---------------------------------------------------------------------------\u001b[0m",
            "\u001b[0;31mNameError\u001b[0m                                 Traceback (most recent call last)",
            "\u001b[0;32m<ipython-input-5-99b3e382ce21>\u001b[0m in \u001b[0;36m<cell line: 18>\u001b[0;34m()\u001b[0m\n\u001b[1;32m     16\u001b[0m \u001b[0;31m# You can also delete obj or its prop by del keyword\u001b[0m\u001b[0;34m\u001b[0m\u001b[0;34m\u001b[0m\u001b[0m\n\u001b[1;32m     17\u001b[0m \u001b[0;32mdel\u001b[0m \u001b[0manim2\u001b[0m\u001b[0;34m\u001b[0m\u001b[0;34m\u001b[0m\u001b[0m\n\u001b[0;32m---> 18\u001b[0;31m \u001b[0mprint\u001b[0m\u001b[0;34m(\u001b[0m\u001b[0manim2\u001b[0m\u001b[0;34m)\u001b[0m \u001b[0;31m# Throws error\u001b[0m\u001b[0;34m\u001b[0m\u001b[0;34m\u001b[0m\u001b[0m\n\u001b[0m",
            "\u001b[0;31mNameError\u001b[0m: name 'anim2' is not defined"
          ]
        }
      ]
    },
    {
      "cell_type": "code",
      "source": [
        "# Single Inheritance\n",
        "class Parent:\n",
        "  print(\"Hello , I am your Parent\")\n",
        "class Child(Parent):\n",
        "  print(\"I am a child\")\n",
        "obj1 = Child()\n",
        "# Automatically calls the parent class first when method is called\n",
        "print(\"\\n\")\n",
        "class Dog:\n",
        "  def parent_method(self):\n",
        "    print(\"I am a parent-class method \")\n",
        "  print(\"bhowww-bhoww\")\n",
        "class Pup(Dog):\n",
        "  def child_method(self):\n",
        "    print(\"I am a child-class method , but I can access parent methods too as I inherit from them\")\n",
        "  print(\"bhoo-bhoo\")\n",
        "a = Pup()            # Made object of child class\n",
        "a.parent_method()\n",
        "a.child_method()"
      ],
      "metadata": {
        "colab": {
          "base_uri": "https://localhost:8080/"
        },
        "id": "a983cv8R-0QR",
        "outputId": "a0fe97d1-08dd-43de-be8b-6e48ba37ffc9"
      },
      "execution_count": 6,
      "outputs": [
        {
          "output_type": "stream",
          "name": "stdout",
          "text": [
            "Hello , I am your Parent\n",
            "I am a child\n",
            "\n",
            "\n",
            "bhowww-bhoww\n",
            "bhoo-bhoo\n",
            "I am a parent-class method \n",
            "I am a child-class method , but I can access parent methods too as I inherit from them\n"
          ]
        }
      ]
    },
    {
      "cell_type": "code",
      "source": [
        "# Single Inheritance\n",
        "class Parent:\n",
        "  print(\"Hello , I am your Parent\")\n",
        "class Child(Parent):\n",
        "  print(\"I am a child\")\n",
        "obj1 = Child()\n",
        "# Automatically calls the parent class first when method is called\n",
        "print(\"\\n\")\n",
        "class Dog:\n",
        "  def parent_method(self):\n",
        "    print(\"I am a parent-class method \")\n",
        "  print(\"bhowww-bhoww\")\n",
        "class Pup(Dog):\n",
        "  def child_method(self):\n",
        "    print(\"I am a child-class method , but I can access parent methods too as I inherit from them\")\n",
        "  print(\"bhoo-bhoo\")\n",
        "a = Pup()            # Made object of child class\n",
        "a.parent_method()\n",
        "a.child_method()"
      ],
      "metadata": {
        "colab": {
          "base_uri": "https://localhost:8080/"
        },
        "id": "03oVGu_f-3tE",
        "outputId": "5db7f82e-a7e2-42ed-b2be-ee34a16ed095"
      },
      "execution_count": 7,
      "outputs": [
        {
          "output_type": "stream",
          "name": "stdout",
          "text": [
            "Hello , I am your Parent\n",
            "I am a child\n",
            "\n",
            "\n",
            "bhowww-bhoww\n",
            "bhoo-bhoo\n",
            "I am a parent-class method \n",
            "I am a child-class method , but I can access parent methods too as I inherit from them\n"
          ]
        }
      ]
    },
    {
      "cell_type": "code",
      "source": [
        "# Multilevel Inheritance\n",
        "class TigerMum:\n",
        "  def func1(self):\n",
        "    print(\"Hello , this is multilevel inheritance\")\n",
        "\n",
        "class cub1(TigerMum):\n",
        "  def func2(self):\n",
        "    print(\"Cub 1 is child of TigerMum\")\n",
        "\n",
        "class cub2(TigerMum):\n",
        "  def func3(self):\n",
        "    print(\"Cub 2 is child of TigerMum\")\n",
        "\n",
        "obj1 = cub1()\n",
        "obj2 = cub2()\n",
        "obj1.func1()\n",
        "obj2.func1()\n",
        "obj1.func2()\n",
        "obj2.func3()\n"
      ],
      "metadata": {
        "colab": {
          "base_uri": "https://localhost:8080/"
        },
        "id": "FQvDNa_L-7PB",
        "outputId": "2403dd3a-b8ef-48da-ef42-00fef728861c"
      },
      "execution_count": 8,
      "outputs": [
        {
          "output_type": "stream",
          "name": "stdout",
          "text": [
            "Hello , this is multilevel inheritance\n",
            "Hello , this is multilevel inheritance\n",
            "Cub 1 is child of TigerMum\n",
            "Cub 2 is child of TigerMum\n"
          ]
        }
      ]
    },
    {
      "cell_type": "code",
      "source": [
        "# Using super keyword\n",
        "class Grandfather:\n",
        "  def f1(self):\n",
        "    print(\"Grandfather speaks\")\n",
        "class Father(Grandfather):\n",
        "  def f2(self):\n",
        "    print(\"Father speaks\")\n",
        "class Child(Father):\n",
        "  def f3(self):\n",
        "    print(\"Child speaks\")\n",
        "    super().f2()\n",
        "    super().f1()\n",
        "myObj = Child()\n",
        "myObj.f3()\n",
        ""
      ],
      "metadata": {
        "colab": {
          "base_uri": "https://localhost:8080/"
        },
        "id": "H9__iu3j_BAh",
        "outputId": "430a4d04-9887-47a1-cc8e-31ee772d2404"
      },
      "execution_count": 9,
      "outputs": [
        {
          "output_type": "stream",
          "name": "stdout",
          "text": [
            "Child speaks\n",
            "Father speaks\n",
            "Grandfather speaks\n"
          ]
        }
      ]
    },
    {
      "cell_type": "code",
      "source": [
        "# Understanding the __init__() method in inheritance\n",
        "# When you define the __init__() method in the child class , it won't inherit the __init__() in the parent class\n",
        "# This is because of Python's MRO (Method Resolution Order)\n",
        "# Two reasons :-\n",
        "# --> Python treats __init__() in child class as a new constructor\n",
        "# --> The child class's init method overrides parent class's method\n",
        "\n",
        "class ParentCom:\n",
        "  def __init__(self,turnover):\n",
        "    self.turn = turnover\n",
        "  def evaluation(self):\n",
        "    print(f\"Parent Company's annual evaluation is {self.turn}\")\n",
        "    print(f\"Child Company's annual evaluation is {self.child_turnover}\")\n",
        "\n",
        "class Company(ParentCom):\n",
        "  def __init__(self,turnover,child_turnover):\n",
        "    # For the child class to inherit parent's init , explicitly call the parent's init method\n",
        "    # Given below , both are valid ways to call explicitly\n",
        "\n",
        "    # ParentCom.__init__(self,turnover)  ---> 1st\n",
        "    super().__init__(turnover)         # ---> 2nd\n",
        "    # By using the super() function, you do not have to use the name of the parent element,\n",
        "    # it will automatically inherit the methods and properties from its parent.\n",
        "\n",
        "    self.child_turnover = child_turnover\n",
        "\n",
        "google = Company(25000,12000)\n",
        "google.evaluation()"
      ],
      "metadata": {
        "colab": {
          "base_uri": "https://localhost:8080/"
        },
        "id": "Xgcv2mhy_E8e",
        "outputId": "ff738968-45c8-43df-b19d-a61795ede015"
      },
      "execution_count": 10,
      "outputs": [
        {
          "output_type": "stream",
          "name": "stdout",
          "text": [
            "Parent Company's annual evaluation is 25000\n",
            "Child Company's annual evaluation is 12000\n"
          ]
        }
      ]
    },
    {
      "cell_type": "code",
      "source": [
        "# Polymorphism\n",
        "\n",
        "# Method Overloading (static polymorphism)\n",
        "# Python does not support method overloading directly ,but there are certain ways in which we can do it\n",
        "# Reason is : we may overload the method , but we can use the latest one only\n",
        "# Calling the prior method will throw an error\n",
        "\n",
        "# Ways in which overloding could be achieved :\n",
        "# Method 1 (Using None keyword as default parameter) - Not efficient\n",
        "def add(num1 = None , num2 = None) :\n",
        "   if num1 != None and num2 == None :\n",
        "    print(num1)\n",
        "   else :\n",
        "    print(num1 + num2)\n",
        "add(2,3)\n",
        "add(2)\n",
        "\n",
        "# Method 2 - Using Multiple Dispatch Decorator\n",
        "from multipledispatch import dispatch\n",
        "\n",
        "@dispatch(float,float,float)       # Using concept of decorators\n",
        "def multiply(a,b,c):\n",
        "  return a*b*c\n",
        "\n",
        "@dispatch(int,int)\n",
        "def multiply(a,b):\n",
        "  return a*b\n",
        "\n",
        "@dispatch(int,int,int)\n",
        "def multiply(a,b,c):\n",
        "  return a*b*c\n",
        "ans1 = multiply(4,5)\n",
        "ans2 = multiply(2.34,3.56,12.345)\n",
        "ans3 = multiply(5,6,7)\n",
        "print(ans1,ans2,ans3)"
      ],
      "metadata": {
        "colab": {
          "base_uri": "https://localhost:8080/"
        },
        "id": "IgEvuEwJ_JZi",
        "outputId": "b80e1b22-11f4-42e3-c74a-24034b0cc29b"
      },
      "execution_count": 11,
      "outputs": [
        {
          "output_type": "stream",
          "name": "stdout",
          "text": [
            "5\n",
            "2\n",
            "20 102.838788 210\n"
          ]
        }
      ]
    },
    {
      "cell_type": "code",
      "source": [
        "# Method overriding (dynamic polymorphism)\n",
        "class parent:\n",
        "\n",
        "  def __init__(self):\n",
        "    print(\"I am being printed from Parent Class....\")\n",
        "\n",
        "  def display(self,val):\n",
        "    print(\"Value Of Parent class = \", val)\n",
        "\n",
        "class child(parent):\n",
        "\n",
        "  def __init__(self):\n",
        "    print(\"I am being printed from Child Class....\")\n",
        "    parent.__init__(self)\n",
        "\n",
        "  def display(self,val):\n",
        "    super().display(val + 1)\n",
        "    print(\"Value of Child Class = \",val)\n",
        "\n",
        "class grandchild(child):\n",
        "\n",
        "  def __init__(self):\n",
        "    print(\"I am being printed from GrandChild Class....\")\n",
        "    child.__init__(self)\n",
        "\n",
        "  def display(self,val):\n",
        "    super().display(val + 1)\n",
        "    print(\"Value of GrandChild Class = \",val)\n",
        "\n",
        "myobj = grandchild()\n",
        "myobj.display(20)"
      ],
      "metadata": {
        "colab": {
          "base_uri": "https://localhost:8080/"
        },
        "id": "42_fcKgN_QsU",
        "outputId": "d3a4fb11-0c19-4ed1-c39e-2da0563afab1"
      },
      "execution_count": 12,
      "outputs": [
        {
          "output_type": "stream",
          "name": "stdout",
          "text": [
            "I am being printed from GrandChild Class....\n",
            "I am being printed from Child Class....\n",
            "I am being printed from Parent Class....\n",
            "Value Of Parent class =  22\n",
            "Value of Child Class =  21\n",
            "Value of GrandChild Class =  20\n"
          ]
        }
      ]
    },
    {
      "cell_type": "code",
      "source": [
        "# Exception- handling in Python\n",
        "# Exceptions are raised when the program is syntactically correct, but the code results in an error\n",
        "\n",
        "mks = 100\n",
        "string = 'Hi'\n",
        "try :\n",
        "  result = 100/0\n",
        "except ZeroDivisionError :\n",
        "  print(\"ZeroDivisionError occured :\")\n",
        "  print(\"You cannot divide by zero\")\n",
        "\n",
        "try :\n",
        "  ans = mks + string\n",
        "except TypeError :\n",
        "  print(\"TypeError occured :\")\n",
        "  print('You cannot add a string to an int')\n",
        "\n",
        "mylist = [23,45,33]\n",
        "try:\n",
        "  print(\"Second Element of the list = \",mylist[1])\n",
        "  print(\"Fourth Element of the list = \",mylist[3])\n",
        "except :\n",
        "  print(\"IndexError occured :\")\n",
        "  print(\"stated index does not exists\")\n",
        "\n",
        "# You can have multiple except clauses for one try clause# Exception- handling in Python\n",
        "# Exceptions are raised when the program is syntactically correct, but the code results in an error\n",
        "\n",
        "mks = 100\n",
        "string = 'Hi'\n",
        "try :\n",
        "  result = 100/0\n",
        "except ZeroDivisionError :\n",
        "  print(\"ZeroDivisionError occured :\")\n",
        "  print(\"You cannot divide by zero\")\n",
        "\n",
        "try :\n",
        "  ans = mks + string\n",
        "except TypeError :\n",
        "  print(\"TypeError occured :\")\n",
        "  print('You cannot add a string to an int')\n",
        "\n",
        "mylist = [23,45,33]\n",
        "try:\n",
        "  print(\"Second Element of the list = \",mylist[1])\n",
        "  print(\"Fourth Element of the list = \",mylist[3])\n",
        "except :\n",
        "  print(\"IndexError occured :\")\n",
        "  print(\"stated index does not exists\")\n",
        "\n",
        "# You can have multiple except clauses for one try clause"
      ],
      "metadata": {
        "colab": {
          "base_uri": "https://localhost:8080/"
        },
        "id": "jz19qsOi_XGY",
        "outputId": "ff574a53-2cd7-4231-f4d2-5cc97584ac57"
      },
      "execution_count": 13,
      "outputs": [
        {
          "output_type": "stream",
          "name": "stdout",
          "text": [
            "ZeroDivisionError occured :\n",
            "You cannot divide by zero\n",
            "TypeError occured :\n",
            "You cannot add a string to an int\n",
            "Second Element of the list =  45\n",
            "IndexError occured :\n",
            "stated index does not exists\n",
            "ZeroDivisionError occured :\n",
            "You cannot divide by zero\n",
            "TypeError occured :\n",
            "You cannot add a string to an int\n",
            "Second Element of the list =  45\n",
            "IndexError occured :\n",
            "stated index does not exists\n"
          ]
        }
      ]
    },
    {
      "cell_type": "code",
      "source": [
        "# Else block in Exception\n",
        "\n",
        "def exp(a,b):\n",
        "  try :\n",
        "    result = (a*a + b*b)/(a*a - b*b)\n",
        "  except :\n",
        "    print(\"Error : You can't divide by zero \")\n",
        "  else :\n",
        "    # The code enters the else block only if the try clause does not raise an exception.\n",
        "    print(\"Result = \",result)\n",
        "  finally :\n",
        "    # finally block is always executed whether exception is generated or not\n",
        "    print(\"I'm gigaChad , I'm always executed\")\n",
        "\n",
        "exp(3,2)\n",
        "exp(2,2)"
      ],
      "metadata": {
        "colab": {
          "base_uri": "https://localhost:8080/"
        },
        "id": "SoMLKc5I_cSt",
        "outputId": "8b1530b7-1981-4179-f396-e6cf1d371f32"
      },
      "execution_count": 14,
      "outputs": [
        {
          "output_type": "stream",
          "name": "stdout",
          "text": [
            "Result =  2.6\n",
            "I'm gigaChad , I'm always executed\n",
            "Error : You can't divide by zero \n",
            "I'm gigaChad , I'm always executed\n"
          ]
        }
      ]
    },
    {
      "cell_type": "code",
      "source": [
        "\n",
        "# Other way of writing except block :\n",
        "def add(n1,n2):\n",
        "  try :\n",
        "    if n1 > 10 :\n",
        "      ans = n1 + n2\n",
        "      print(ans)\n",
        "    else :\n",
        "      print(ans)\n",
        "  except Exception as e :\n",
        "    # By this way we can know about the type of error occurring\n",
        "    print(\"Type of error : \",e)\n",
        "add(3,4)\n",
        "add(12,23)"
      ],
      "metadata": {
        "colab": {
          "base_uri": "https://localhost:8080/"
        },
        "id": "aVWMZaj6_gnV",
        "outputId": "ae3dbfb4-dde5-48cd-b0ba-c538762ac72d"
      },
      "execution_count": 15,
      "outputs": [
        {
          "output_type": "stream",
          "name": "stdout",
          "text": [
            "Type of error :  local variable 'ans' referenced before assignment\n",
            "35\n"
          ]
        }
      ]
    },
    {
      "cell_type": "code",
      "source": [],
      "metadata": {
        "id": "v-1IXWGm_khz"
      },
      "execution_count": null,
      "outputs": []
    }
  ]
}