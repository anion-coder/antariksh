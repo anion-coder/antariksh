{
  "nbformat": 4,
  "nbformat_minor": 0,
  "metadata": {
    "colab": {
      "provenance": [],
      "authorship_tag": "ABX9TyM7623TDi6Ewq37FBkWfJof",
      "include_colab_link": true
    },
    "kernelspec": {
      "name": "python3",
      "display_name": "Python 3"
    },
    "language_info": {
      "name": "python"
    }
  },
  "cells": [
    {
      "cell_type": "markdown",
      "metadata": {
        "id": "view-in-github",
        "colab_type": "text"
      },
      "source": [
        "<a href=\"https://colab.research.google.com/github/anion-coder/antariksh/blob/main/antarikshlec2.ipynb\" target=\"_parent\"><img src=\"https://colab.research.google.com/assets/colab-badge.svg\" alt=\"Open In Colab\"/></a>"
      ]
    },
    {
      "cell_type": "code",
      "execution_count": 1,
      "metadata": {
        "id": "rmrdWTjUwGHd"
      },
      "outputs": [],
      "source": [
        "from random import shuffle\n",
        "\n",
        "\n",
        "def shuffle_list(mylist):\n",
        "    shuffle(mylist)\n",
        "    return mylist"
      ]
    },
    {
      "cell_type": "code",
      "source": [
        "def player_guess():\n",
        "    guess = ''\n",
        "    while guess not in ['0','1','2']:\n",
        "        guess = input('pick the index position')\n",
        "    return int(guess)"
      ],
      "metadata": {
        "id": "8MEFqDOnwZq1"
      },
      "execution_count": 2,
      "outputs": []
    },
    {
      "cell_type": "code",
      "source": [
        "def check_guess(mylist,guess):\n",
        "    if mylist[guess]=='o':\n",
        "        print('correct guess!')\n",
        "    else:\n",
        "        print('try again')"
      ],
      "metadata": {
        "id": "juAFqTa2wfIb"
      },
      "execution_count": 3,
      "outputs": []
    },
    {
      "cell_type": "code",
      "source": [
        "#logic\n",
        "list = ['','o','']\n",
        "\n",
        "shuffle_list(list)\n",
        "\n",
        "guess = player_guess()\n",
        "\n",
        "check_guess(list,guess)"
      ],
      "metadata": {
        "colab": {
          "base_uri": "https://localhost:8080/"
        },
        "id": "VfW36C4YwiE4",
        "outputId": "62b2de2a-96d4-4e43-8f3d-681d56fa1b4e"
      },
      "execution_count": 4,
      "outputs": [
        {
          "output_type": "stream",
          "name": "stdout",
          "text": [
            "pick the index position2\n",
            "correct guess!\n"
          ]
        }
      ]
    },
    {
      "cell_type": "code",
      "source": [
        "def name(*args):\n",
        "  for x in args:\n",
        "    print(f'Hi my name is {x}')\n"
      ],
      "metadata": {
        "id": "BklDDiHMwlpw"
      },
      "execution_count": 1,
      "outputs": []
    },
    {
      "cell_type": "code",
      "source": [],
      "metadata": {
        "id": "LmTrj4FFI4hM"
      },
      "execution_count": null,
      "outputs": []
    }
  ]
}